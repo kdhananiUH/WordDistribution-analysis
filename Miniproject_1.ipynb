{
 "cells": [
  {
   "attachments": {},
   "cell_type": "markdown",
   "metadata": {},
   "source": [
    "# Corpus 1"
   ]
  },
  {
   "cell_type": "code",
   "execution_count": 1,
   "metadata": {},
   "outputs": [],
   "source": [
    "import glob\n",
    "import nltk\n",
    "from collections import Counter\n",
    "\n",
    "# Step 1: Import necessary libraries\n",
    "\n",
    "#Reading all files \n",
    "files = glob.glob(\"Corpus/*.txt\")\n",
    "docs = []\n",
    "for file in files:\n",
    "    try:\n",
    "        with open(file, 'r',encoding='cp437') as f:\n",
    "            docs.append(f.read())\n",
    "    except:\n",
    "        with open(file, 'r',encoding='utf-8') as f:\n",
    "            docs.append(f.read())"
   ]
  },
  {
   "attachments": {},
   "cell_type": "markdown",
   "metadata": {},
   "source": [
    "### Pre-processing"
   ]
  },
  {
   "cell_type": "code",
   "execution_count": 2,
   "metadata": {},
   "outputs": [],
   "source": [
    "import string\n",
    "# converting into lower case\n",
    "docs = [doc.lower() for doc in docs]\n",
    "#remove numbers\n",
    "docs = [i for i in docs if not isinstance(i, int)]\n",
    "#remove punctuation\n",
    "docs = [doc.translate(str.maketrans('', '', string.punctuation)) for doc in docs]\n"
   ]
  },
  {
   "cell_type": "code",
   "execution_count": 3,
   "metadata": {},
   "outputs": [],
   "source": [
    "#Tokenize words in each document\n",
    "words_u = []\n",
    "for doc in docs:\n",
    "    words_u += nltk.word_tokenize(doc)"
   ]
  },
  {
   "attachments": {},
   "cell_type": "markdown",
   "metadata": {},
   "source": [
    "#### Top 30 words"
   ]
  },
  {
   "cell_type": "code",
   "execution_count": 5,
   "metadata": {},
   "outputs": [
    {
     "name": "stdout",
     "output_type": "stream",
     "text": [
      "[('the', 631842), ('and', 354756), ('to', 294643), ('of', 268882), ('a', 230052), ('in', 153265), ('i', 150365), ('he', 145745), ('was', 139902), ('that', 124417), ('it', 117185), ('you', 104442), ('his', 101517), ('as', 94753), ('had', 89067), ('for', 85862), ('with', 84185), ('at', 70411), ('but', 68883), ('on', 67803), ('not', 64051), ('be', 60521), ('said', 60464), ('they', 58742), ('is', 53170), ('her', 51577), ('have', 51545), ('were', 49984), ('him', 49151), ('we', 43986)]"
     ]
    }
   ],
   "source": [
    "freq_dist = nltk.FreqDist(words_u)\n",
    "fdist = nltk.FreqDist(words_u)\n",
    "print(fdist.most_common(30), end='')"
   ]
  },
  {
   "attachments": {},
   "cell_type": "markdown",
   "metadata": {},
   "source": [
    "#### Top 40 words"
   ]
  },
  {
   "cell_type": "code",
   "execution_count": 6,
   "metadata": {},
   "outputs": [
    {
     "name": "stdout",
     "output_type": "stream",
     "text": [
      "40 most common words\n",
      "[('the', 631842), ('and', 354756), ('to', 294643), ('of', 268882), ('a', 230052), ('in', 153265), ('i', 150365), ('he', 145745), ('was', 139902), ('that', 124417), ('it', 117185), ('you', 104442), ('his', 101517), ('as', 94753), ('had', 89067), ('for', 85862), ('with', 84185), ('at', 70411), ('but', 68883), ('on', 67803), ('not', 64051), ('be', 60521), ('said', 60464), ('they', 58742), ('is', 53170), ('her', 51577), ('have', 51545), ('were', 49984), ('him', 49151), ('we', 43986), ('she', 43703), ('by', 43211), ('all', 43013), ('my', 40854), ('so', 39051), ('from', 37276), ('which', 37136), ('up', 36982), ('no', 36231), ('there', 35655)]"
     ]
    }
   ],
   "source": [
    "print('40 most common words')\n",
    "print(fdist.most_common(40), end='')"
   ]
  },
  {
   "attachments": {},
   "cell_type": "markdown",
   "metadata": {},
   "source": [
    "#### Top 50 words"
   ]
  },
  {
   "cell_type": "code",
   "execution_count": 7,
   "metadata": {},
   "outputs": [
    {
     "name": "stdout",
     "output_type": "stream",
     "text": [
      "50 most common words\n",
      "[('the', 631842), ('and', 354756), ('to', 294643), ('of', 268882), ('a', 230052), ('in', 153265), ('i', 150365), ('he', 145745), ('was', 139902), ('that', 124417), ('it', 117185), ('you', 104442), ('his', 101517), ('as', 94753), ('had', 89067), ('for', 85862), ('with', 84185), ('at', 70411), ('but', 68883), ('on', 67803), ('not', 64051), ('be', 60521), ('said', 60464), ('they', 58742), ('is', 53170), ('her', 51577), ('have', 51545), ('were', 49984), ('him', 49151), ('we', 43986), ('she', 43703), ('by', 43211), ('all', 43013), ('my', 40854), ('so', 39051), ('from', 37276), ('which', 37136), ('up', 36982), ('no', 36231), ('there', 35655), ('me', 35618), ('one', 35005), ('this', 34826), ('their', 34822), ('would', 33779), ('if', 33327), ('them', 32927), ('out', 31325), ('when', 31267), ('been', 30537)]"
     ]
    }
   ],
   "source": [
    "print('50 most common words')\n",
    "print(fdist.most_common(50), end='')"
   ]
  },
  {
   "attachments": {},
   "cell_type": "markdown",
   "metadata": {},
   "source": [
    "#### Q2 : 30 most common bi-grams"
   ]
  },
  {
   "cell_type": "code",
   "execution_count": 8,
   "metadata": {},
   "outputs": [
    {
     "name": "stdout",
     "output_type": "stream",
     "text": [
      "30 most common bi-grams\n",
      "[(('of', 'the'), 78677), (('in', 'the'), 43184), (('to', 'the'), 36766), (('and', 'the'), 25321), (('on', 'the'), 22742), (('it', 'was'), 22181), (('at', 'the'), 19147), (('to', 'be'), 18965), (('for', 'the'), 15974), (('he', 'was'), 15200), (('he', 'had'), 14871), (('in', 'a'), 14733), (('with', 'a'), 14041), (('had', 'been'), 13700), (('with', 'the'), 13617), (('from', 'the'), 13418), (('by', 'the'), 13275), (('that', 'the'), 12173), (('was', 'a'), 11731), (('of', 'a'), 11637), (('and', 'i'), 11612), (('of', 'his'), 11377), (('as', 'he'), 11166), (('it', 'is'), 11147), (('that', 'he'), 10454), (('there', 'was'), 9901), (('and', 'then'), 9502), (('into', 'the'), 9377), (('for', 'a'), 9151), (('one', 'of'), 8855)]"
     ]
    }
   ],
   "source": [
    "from nltk.util import ngrams\n",
    "bigrams = list(ngrams(words_u, 2))\n",
    "print('30 most common bi-grams')\n",
    "fdist1 = nltk.FreqDist(bigrams)\n",
    "print(fdist1.most_common(30), end='')"
   ]
  },
  {
   "attachments": {},
   "cell_type": "markdown",
   "metadata": {},
   "source": [
    "#### 40 most common bi-grams"
   ]
  },
  {
   "cell_type": "code",
   "execution_count": 9,
   "metadata": {},
   "outputs": [
    {
     "name": "stdout",
     "output_type": "stream",
     "text": [
      "40 most common bi-grams\n",
      "[(('of', 'the'), 78677), (('in', 'the'), 43184), (('to', 'the'), 36766), (('and', 'the'), 25321), (('on', 'the'), 22742), (('it', 'was'), 22181), (('at', 'the'), 19147), (('to', 'be'), 18965), (('for', 'the'), 15974), (('he', 'was'), 15200), (('he', 'had'), 14871), (('in', 'a'), 14733), (('with', 'a'), 14041), (('had', 'been'), 13700), (('with', 'the'), 13617), (('from', 'the'), 13418), (('by', 'the'), 13275), (('that', 'the'), 12173), (('was', 'a'), 11731), (('of', 'a'), 11637), (('and', 'i'), 11612), (('of', 'his'), 11377), (('as', 'he'), 11166), (('it', 'is'), 11147), (('that', 'he'), 10454), (('there', 'was'), 9901), (('and', 'then'), 9502), (('into', 'the'), 9377), (('for', 'a'), 9151), (('one', 'of'), 8855), (('he', 'said'), 8589), (('i', 'have'), 8509), (('i', 'am'), 8424), (('and', 'he'), 8218), (('they', 'were'), 8137), (('did', 'not'), 7701), (('as', 'the'), 7668), (('i', 'was'), 7568), (('and', 'a'), 7531), (('said', 'the'), 7475)]"
     ]
    }
   ],
   "source": [
    "print('40 most common bi-grams')\n",
    "\n",
    "print(fdist1.most_common(40), end='')"
   ]
  },
  {
   "attachments": {},
   "cell_type": "markdown",
   "metadata": {},
   "source": [
    "#### 50 most common bi-grams"
   ]
  },
  {
   "cell_type": "code",
   "execution_count": 10,
   "metadata": {},
   "outputs": [
    {
     "name": "stdout",
     "output_type": "stream",
     "text": [
      "50 most common bi-grams\n",
      "[(('of', 'the'), 78677), (('in', 'the'), 43184), (('to', 'the'), 36766), (('and', 'the'), 25321), (('on', 'the'), 22742), (('it', 'was'), 22181), (('at', 'the'), 19147), (('to', 'be'), 18965), (('for', 'the'), 15974), (('he', 'was'), 15200), (('he', 'had'), 14871), (('in', 'a'), 14733), (('with', 'a'), 14041), (('had', 'been'), 13700), (('with', 'the'), 13617), (('from', 'the'), 13418), (('by', 'the'), 13275), (('that', 'the'), 12173), (('was', 'a'), 11731), (('of', 'a'), 11637), (('and', 'i'), 11612), (('of', 'his'), 11377), (('as', 'he'), 11166), (('it', 'is'), 11147), (('that', 'he'), 10454), (('there', 'was'), 9901), (('and', 'then'), 9502), (('into', 'the'), 9377), (('for', 'a'), 9151), (('one', 'of'), 8855), (('he', 'said'), 8589), (('i', 'have'), 8509), (('i', 'am'), 8424), (('and', 'he'), 8218), (('they', 'were'), 8137), (('did', 'not'), 7701), (('as', 'the'), 7668), (('i', 'was'), 7568), (('and', 'a'), 7531), (('said', 'the'), 7475), (('in', 'his'), 7360), (('have', 'been'), 7358), (('out', 'of'), 7283), (('would', 'be'), 7123), (('all', 'the'), 6981), (('but', 'i'), 6453), (('that', 'i'), 6438), (('to', 'his'), 6411), (('a', 'few'), 6384), (('the', 'other'), 6228)]"
     ]
    }
   ],
   "source": [
    "print('50 most common bi-grams')\n",
    "\n",
    "print(fdist1.most_common(50), end='')"
   ]
  },
  {
   "attachments": {},
   "cell_type": "markdown",
   "metadata": {},
   "source": [
    "#### Q3: Removing stop words from text"
   ]
  },
  {
   "cell_type": "code",
   "execution_count": 4,
   "metadata": {},
   "outputs": [],
   "source": [
    "from nltk.corpus import stopwords\n",
    "#nltk.download('stopwords')   \n",
    "stop_words = set(stopwords.words('english'))\n",
    "  \n",
    "# converts the words in word_tokens to lower case and then checks whether \n",
    "#they are present in stop_words or not\n",
    "filtered_sentence = [w for w in words_u if not w.lower() in stop_words]\n",
    "#with no lower case conversion\n",
    "filtered_sentence = []\n",
    "  \n",
    "for w in words_u:\n",
    "    if w not in stop_words:\n",
    "        filtered_sentence.append(w)\n",
    "  "
   ]
  },
  {
   "attachments": {},
   "cell_type": "markdown",
   "metadata": {},
   "source": [
    "#### Top 30 words after removing stop words"
   ]
  },
  {
   "cell_type": "code",
   "execution_count": 5,
   "metadata": {},
   "outputs": [
    {
     "name": "stdout",
     "output_type": "stream",
     "text": [
      "30 most common words after removing stop words\n",
      "[('said', 60464), ('one', 35005), ('would', 33779), ('could', 23865), ('little', 21772), ('time', 20028), ('well', 18291), ('see', 17801), ('go', 17176), ('like', 16828), ('two', 16711), ('come', 16400), ('man', 15843), ('upon', 15402), ('know', 15091), ('dont', 14520), ('men', 14023), ('us', 14007), ('way', 13974), ('back', 13727), ('good', 13434), ('made', 13303), ('came', 12984), ('say', 12938), ('much', 12573), ('great', 12413), ('must', 12137), ('old', 11929), ('get', 11919), ('think', 11842)]"
     ]
    }
   ],
   "source": [
    "freq_dist = nltk.FreqDist(filtered_sentence)\n",
    "fdist2 = nltk.FreqDist(filtered_sentence)\n",
    "print('30 most common words after removing stop words')\n",
    "\n",
    "print(fdist2.most_common(30), end='')"
   ]
  },
  {
   "cell_type": "code",
   "execution_count": 6,
   "metadata": {},
   "outputs": [
    {
     "data": {
      "image/png": "[encoded data removed]",
      "text/plain": [
       "<Figure size 432x288 with 1 Axes>"
      ]
     },
     "metadata": {
      "needs_background": "light"
     },
     "output_type": "display_data"
    },
    {
     "data": {
      "text/plain": [
       "<AxesSubplot:xlabel='Samples', ylabel='Counts'>"
      ]
     },
     "execution_count": 6,
     "metadata": {},
     "output_type": "execute_result"
    }
   ],
   "source": [
    "fdist2.plot(30)"
   ]
  },
  {
   "attachments": {},
   "cell_type": "markdown",
   "metadata": {},
   "source": [
    "#### 40 most common words after removing stop words"
   ]
  },
  {
   "cell_type": "code",
   "execution_count": 13,
   "metadata": {},
   "outputs": [
    {
     "name": "stdout",
     "output_type": "stream",
     "text": [
      "40 most common words after removing stop words\n",
      "[('said', 60464), ('one', 35005), ('would', 33779), ('could', 23865), ('little', 21772), ('time', 20028), ('well', 18291), ('see', 17801), ('go', 17176), ('like', 16828), ('two', 16711), ('come', 16400), ('man', 15843), ('upon', 15402), ('know', 15091), ('dont', 14520), ('men', 14023), ('us', 14007), ('way', 13974), ('back', 13727), ('good', 13434), ('made', 13303), ('came', 12984), ('say', 12938), ('much', 12573), ('great', 12413), ('must', 12137), ('old', 11929), ('get', 11919), ('think', 11842), ('long', 11793), ('away', 11677), ('went', 11598), ('mr', 10946), ('never', 10639), ('take', 10445), ('day', 10254), ('make', 10226), ('first', 10080), ('got', 10036)]"
     ]
    }
   ],
   "source": [
    "print('40 most common words after removing stop words')\n",
    "\n",
    "print(fdist2.most_common(40), end='')"
   ]
  },
  {
   "attachments": {},
   "cell_type": "markdown",
   "metadata": {},
   "source": [
    "#### Top 50 words after removing stop words"
   ]
  },
  {
   "cell_type": "code",
   "execution_count": 14,
   "metadata": {},
   "outputs": [
    {
     "name": "stdout",
     "output_type": "stream",
     "text": [
      "50 most common words after removing stop words\n",
      "[('said', 60464), ('one', 35005), ('would', 33779), ('could', 23865), ('little', 21772), ('time', 20028), ('well', 18291), ('see', 17801), ('go', 17176), ('like', 16828), ('two', 16711), ('come', 16400), ('man', 15843), ('upon', 15402), ('know', 15091), ('dont', 14520), ('men', 14023), ('us', 14007), ('way', 13974), ('back', 13727), ('good', 13434), ('made', 13303), ('came', 12984), ('say', 12938), ('much', 12573), ('great', 12413), ('must', 12137), ('old', 11929), ('get', 11919), ('think', 11842), ('long', 11793), ('away', 11677), ('went', 11598), ('mr', 10946), ('never', 10639), ('take', 10445), ('day', 10254), ('make', 10226), ('first', 10080), ('got', 10036), ('may', 9979), ('boy', 9378), ('look', 9364), ('right', 9280), ('might', 9278), ('last', 9133), ('shall', 9115), ('going', 8954), ('place', 8696), ('thought', 8608)]"
     ]
    }
   ],
   "source": [
    "print('50 most common words after removing stop words')\n",
    "\n",
    "print(fdist2.most_common(50), end='')"
   ]
  },
  {
   "attachments": {},
   "cell_type": "markdown",
   "metadata": {},
   "source": [
    "#### Top 30 bi-grams after removing stop words"
   ]
  },
  {
   "cell_type": "code",
   "execution_count": 5,
   "metadata": {},
   "outputs": [
    {
     "name": "stdout",
     "output_type": "stream",
     "text": [
      "30 common bi-grams after removing stop words\n",
      "[(('dont', 'know'), 2148), (('project', 'gutenbergtm'), 1904), (('brer', 'rabbit'), 1590), (('could', 'see'), 1534), (('old', 'man'), 1383), (('dont', 'think'), 1288), (('two', 'three'), 1157), (('sir', 'said'), 1081), (('let', 'us'), 1061), (('good', 'deal'), 1038), (('project', 'gutenberg'), 1008), (('brer', 'fox'), 979), (('dont', 'want'), 975), (('said', 'captain'), 969), (('said', 'mr'), 965), (('come', 'back'), 965), (('next', 'morning'), 953), (('yes', 'said'), 949), (('every', 'one'), 902), (('next', 'day'), 896), (('said', 'doctor'), 878), (('one', 'day'), 871), (('young', 'man'), 842), (('said', 'uncle'), 824), (('great', 'deal'), 799), (('uncle', 'remus'), 797), (('said', 'dick'), 754), (('half', 'hour'), 747), (('could', 'get'), 723), (('one', 'side'), 719)]"
     ]
    }
   ],
   "source": [
    "from nltk.util import ngrams\n",
    "bigrams1 = list(ngrams(filtered_sentence, 2))\n",
    "print('30 common bi-grams after removing stop words')\n",
    "fdist3 = nltk.FreqDist(bigrams1)\n",
    "print(fdist3.most_common(30), end='')"
   ]
  },
  {
   "attachments": {},
   "cell_type": "markdown",
   "metadata": {},
   "source": [
    "#### Top 40 bi-grams after removing stop words"
   ]
  },
  {
   "cell_type": "code",
   "execution_count": 16,
   "metadata": {},
   "outputs": [
    {
     "name": "stdout",
     "output_type": "stream",
     "text": [
      "40 most common bi-grams after removing stop words\n",
      "[(('dont', 'know'), 2148), (('project', 'gutenbergtm'), 1904), (('brer', 'rabbit'), 1590), (('could', 'see'), 1534), (('old', 'man'), 1383), (('dont', 'think'), 1288), (('two', 'three'), 1157), (('sir', 'said'), 1081), (('let', 'us'), 1061), (('good', 'deal'), 1038), (('project', 'gutenberg'), 1008), (('brer', 'fox'), 979), (('dont', 'want'), 975), (('said', 'captain'), 969), (('said', 'mr'), 965), (('come', 'back'), 965), (('next', 'morning'), 953), (('yes', 'said'), 949), (('every', 'one'), 902), (('next', 'day'), 896), (('said', 'doctor'), 878), (('one', 'day'), 871), (('young', 'man'), 842), (('said', 'uncle'), 824), (('great', 'deal'), 799), (('uncle', 'remus'), 797), (('said', 'dick'), 754), (('half', 'hour'), 747), (('could', 'get'), 723), (('one', 'side'), 719), (('long', 'time'), 717), (('said', 'mrs'), 716), (('let', 'go'), 710), (('well', 'said'), 706), (('go', 'back'), 690), (('one', 'two'), 674), (('little', 'girl'), 670), (('little', 'boy'), 667), (('said', 'would'), 664), (('made', 'way'), 648)]"
     ]
    }
   ],
   "source": [
    "print('40 most common bi-grams after removing stop words')\n",
    "\n",
    "print(fdist3.most_common(40), end='')"
   ]
  },
  {
   "attachments": {},
   "cell_type": "markdown",
   "metadata": {},
   "source": [
    "#### Top 50 bi-grams after removing stop words"
   ]
  },
  {
   "cell_type": "code",
   "execution_count": 17,
   "metadata": {},
   "outputs": [
    {
     "name": "stdout",
     "output_type": "stream",
     "text": [
      "50 most common bi-grams after removing stop words\n",
      "[(('dont', 'know'), 2148), (('project', 'gutenbergtm'), 1904), (('brer', 'rabbit'), 1590), (('could', 'see'), 1534), (('old', 'man'), 1383), (('dont', 'think'), 1288), (('two', 'three'), 1157), (('sir', 'said'), 1081), (('let', 'us'), 1061), (('good', 'deal'), 1038), (('project', 'gutenberg'), 1008), (('brer', 'fox'), 979), (('dont', 'want'), 975), (('said', 'captain'), 969), (('said', 'mr'), 965), (('come', 'back'), 965), (('next', 'morning'), 953), (('yes', 'said'), 949), (('every', 'one'), 902), (('next', 'day'), 896), (('said', 'doctor'), 878), (('one', 'day'), 871), (('young', 'man'), 842), (('said', 'uncle'), 824), (('great', 'deal'), 799), (('uncle', 'remus'), 797), (('said', 'dick'), 754), (('half', 'hour'), 747), (('could', 'get'), 723), (('one', 'side'), 719), (('long', 'time'), 717), (('said', 'mrs'), 716), (('let', 'go'), 710), (('well', 'said'), 706), (('go', 'back'), 690), (('one', 'two'), 674), (('little', 'girl'), 670), (('little', 'boy'), 667), (('said', 'would'), 664), (('made', 'way'), 648), (('yes', 'sir'), 646), (('never', 'mind'), 639), (('im', 'going'), 632), (('must', 'go'), 625), (('gutenbergtm', 'electronic'), 612), (('oh', 'yes'), 607), (('two', 'days'), 599), (('first', 'time'), 595), (('two', 'men'), 584), (('come', 'along'), 581)]"
     ]
    }
   ],
   "source": [
    "print('50 most common bi-grams after removing stop words')\n",
    "\n",
    "print(fdist3.most_common(50), end='')"
   ]
  },
  {
   "attachments": {},
   "cell_type": "markdown",
   "metadata": {},
   "source": [
    "# Corpus 2"
   ]
  },
  {
   "cell_type": "code",
   "execution_count": 7,
   "metadata": {},
   "outputs": [],
   "source": [
    "import nltk\n",
    "import glob\n",
    "from collections import Counter\n",
    "\n",
    "# Step 1: Import necessary libraries\n",
    "\n",
    "# Step 2: Read all files into a list of strings\n",
    "files = glob.glob(\"Corpus2/*.txt\")\n",
    "docs = []\n",
    "for file in files:\n",
    "    with open(file, 'r') as f:\n",
    "        docs.append(f.read())\n",
    "\n"
   ]
  },
  {
   "attachments": {},
   "cell_type": "markdown",
   "metadata": {},
   "source": [
    "#### Pre-processing"
   ]
  },
  {
   "cell_type": "code",
   "execution_count": 8,
   "metadata": {},
   "outputs": [],
   "source": [
    "import string\n",
    "# converting into lower case\n",
    "docs = [doc.lower() for doc in docs]\n",
    "#remove numbers\n",
    "docs = [i for i in docs if not isinstance(i, int)]\n",
    "#remove punctuation\n",
    "docs = [doc.translate(str.maketrans('', '', string.punctuation)) for doc in docs]\n"
   ]
  },
  {
   "cell_type": "code",
   "execution_count": 9,
   "metadata": {},
   "outputs": [
    {
     "name": "stderr",
     "output_type": "stream",
     "text": [
      "[nltk_data] Downloading package punkt to\n",
      "[nltk_data]     C:\\Users\\kaush\\AppData\\Roaming\\nltk_data...\n",
      "[nltk_data]   Package punkt is already up-to-date!\n"
     ]
    }
   ],
   "source": [
    "#Tokenize words in each document\n",
    "#tokenized_docs = [nltk.word_tokenize(doc) for doc in docs]\n",
    "import nltk\n",
    "nltk.download('punkt')\n",
    "words_u = []\n",
    "for doc in docs:\n",
    "    words_u += nltk.word_tokenize(doc)\n",
    "    words_u=[word.lower() for word in words_u if word.isalpha()]\n"
   ]
  },
  {
   "attachments": {},
   "cell_type": "markdown",
   "metadata": {},
   "source": [
    "#### Top 30 words"
   ]
  },
  {
   "cell_type": "code",
   "execution_count": 4,
   "metadata": {},
   "outputs": [
    {
     "name": "stdout",
     "output_type": "stream",
     "text": [
      "[('the', 553646), ('and', 346792), ('to', 318151), ('of', 309012), ('a', 242210), ('in', 170188), ('i', 161215), ('he', 158423), ('was', 150818), ('that', 138780), ('her', 131760), ('it', 127465), ('you', 125398), ('his', 124481), ('she', 107833), ('had', 104738), ('with', 98707), ('as', 93681), ('not', 92164), ('for', 91560), ('is', 76596), ('but', 76567), ('at', 69472), ('be', 68678), ('have', 62943), ('him', 58969), ('on', 54790), ('by', 53122), ('which', 49025), ('said', 48289)]"
     ]
    }
   ],
   "source": [
    "freq_dist = nltk.FreqDist(words_u)\n",
    "fdist = nltk.FreqDist(words_u)\n",
    "print(fdist.most_common(30), end='')"
   ]
  },
  {
   "attachments": {},
   "cell_type": "markdown",
   "metadata": {},
   "source": [
    "#### Top 40 words"
   ]
  },
  {
   "cell_type": "code",
   "execution_count": 5,
   "metadata": {},
   "outputs": [
    {
     "name": "stdout",
     "output_type": "stream",
     "text": [
      "40 most common words\n",
      "[('the', 553646), ('and', 346792), ('to', 318151), ('of', 309012), ('a', 242210), ('in', 170188), ('i', 161215), ('he', 158423), ('was', 150818), ('that', 138780), ('her', 131760), ('it', 127465), ('you', 125398), ('his', 124481), ('she', 107833), ('had', 104738), ('with', 98707), ('as', 93681), ('not', 92164), ('for', 91560), ('is', 76596), ('but', 76567), ('at', 69472), ('be', 68678), ('have', 62943), ('him', 58969), ('on', 54790), ('by', 53122), ('which', 49025), ('said', 48289), ('all', 46880), ('so', 46616), ('my', 44855), ('me', 42813), ('this', 41922), ('would', 40249), ('from', 40164), ('no', 39963), ('if', 36587), ('were', 36210)]"
     ]
    }
   ],
   "source": [
    "print('40 most common words')\n",
    "print(fdist.most_common(40), end='')"
   ]
  },
  {
   "attachments": {},
   "cell_type": "markdown",
   "metadata": {},
   "source": [
    "#### Top 50 words"
   ]
  },
  {
   "cell_type": "code",
   "execution_count": 6,
   "metadata": {},
   "outputs": [
    {
     "name": "stdout",
     "output_type": "stream",
     "text": [
      "50 most common words\n",
      "[('the', 553646), ('and', 346792), ('to', 318151), ('of', 309012), ('a', 242210), ('in', 170188), ('i', 161215), ('he', 158423), ('was', 150818), ('that', 138780), ('her', 131760), ('it', 127465), ('you', 125398), ('his', 124481), ('she', 107833), ('had', 104738), ('with', 98707), ('as', 93681), ('not', 92164), ('for', 91560), ('is', 76596), ('but', 76567), ('at', 69472), ('be', 68678), ('have', 62943), ('him', 58969), ('on', 54790), ('by', 53122), ('which', 49025), ('said', 48289), ('all', 46880), ('so', 46616), ('my', 44855), ('me', 42813), ('this', 41922), ('would', 40249), ('from', 40164), ('no', 39963), ('if', 36587), ('were', 36210), ('been', 35638), ('what', 35554), ('one', 35190), ('they', 35177), ('there', 33666), ('who', 32754), ('an', 31496), ('when', 30654), ('or', 30612), ('will', 30008)]"
     ]
    }
   ],
   "source": [
    "print('50 most common words')\n",
    "print(fdist.most_common(50), end='')"
   ]
  },
  {
   "attachments": {},
   "cell_type": "markdown",
   "metadata": {},
   "source": [
    "#### Q2: 30 most common bi-grams"
   ]
  },
  {
   "cell_type": "code",
   "execution_count": 7,
   "metadata": {},
   "outputs": [
    {
     "name": "stdout",
     "output_type": "stream",
     "text": [
      "30 most common bi-grams\n",
      "[(('of', 'the'), 66002), (('in', 'the'), 42940), (('to', 'the'), 29746), (('it', 'was'), 23595), (('to', 'be'), 22361), (('and', 'the'), 20517), (('he', 'had'), 20093), (('it', 'is'), 17446), (('on', 'the'), 17332), (('he', 'was'), 17297), (('with', 'a'), 16695), (('at', 'the'), 16578), (('of', 'his'), 16001), (('had', 'been'), 15164), (('for', 'the'), 14812), (('of', 'a'), 14609), (('i', 'am'), 14331), (('in', 'a'), 14233), (('she', 'had'), 13402), (('with', 'the'), 12574), (('i', 'have'), 12386), (('that', 'he'), 11997), (('by', 'the'), 11812), (('of', 'her'), 11710), (('was', 'a'), 11538), (('she', 'was'), 11512), (('from', 'the'), 11157), (('in', 'his'), 10839), (('to', 'her'), 10649), (('did', 'not'), 9993)]"
     ]
    }
   ],
   "source": [
    "from nltk.util import ngrams\n",
    "bigrams = list(ngrams(words_u, 2))\n",
    "print('30 most common bi-grams')\n",
    "fdist1 = nltk.FreqDist(bigrams)\n",
    "print(fdist1.most_common(30), end='')"
   ]
  },
  {
   "attachments": {},
   "cell_type": "markdown",
   "metadata": {},
   "source": [
    "#### 40 most common bi-grams"
   ]
  },
  {
   "cell_type": "code",
   "execution_count": 8,
   "metadata": {},
   "outputs": [
    {
     "name": "stdout",
     "output_type": "stream",
     "text": [
      "40 most common bi-grams\n",
      "[(('of', 'the'), 66002), (('in', 'the'), 42940), (('to', 'the'), 29746), (('it', 'was'), 23595), (('to', 'be'), 22361), (('and', 'the'), 20517), (('he', 'had'), 20093), (('it', 'is'), 17446), (('on', 'the'), 17332), (('he', 'was'), 17297), (('with', 'a'), 16695), (('at', 'the'), 16578), (('of', 'his'), 16001), (('had', 'been'), 15164), (('for', 'the'), 14812), (('of', 'a'), 14609), (('i', 'am'), 14331), (('in', 'a'), 14233), (('she', 'had'), 13402), (('with', 'the'), 12574), (('i', 'have'), 12386), (('that', 'he'), 11997), (('by', 'the'), 11812), (('of', 'her'), 11710), (('was', 'a'), 11538), (('she', 'was'), 11512), (('from', 'the'), 11157), (('in', 'his'), 10839), (('to', 'her'), 10649), (('did', 'not'), 9993), (('and', 'i'), 9469), (('there', 'was'), 9309), (('have', 'been'), 9020), (('that', 'the'), 8987), (('as', 'he'), 8964), (('was', 'not'), 8576), (('you', 'are'), 8331), (('for', 'a'), 8297), (('a', 'little'), 8139), (('in', 'her'), 8080)]"
     ]
    }
   ],
   "source": [
    "print('40 most common bi-grams')\n",
    "\n",
    "print(fdist1.most_common(40), end='')"
   ]
  },
  {
   "attachments": {},
   "cell_type": "markdown",
   "metadata": {},
   "source": [
    "#### 50 most common bi-grams"
   ]
  },
  {
   "cell_type": "code",
   "execution_count": 9,
   "metadata": {},
   "outputs": [
    {
     "name": "stdout",
     "output_type": "stream",
     "text": [
      "50 most common bi-grams\n",
      "[(('of', 'the'), 66002), (('in', 'the'), 42940), (('to', 'the'), 29746), (('it', 'was'), 23595), (('to', 'be'), 22361), (('and', 'the'), 20517), (('he', 'had'), 20093), (('it', 'is'), 17446), (('on', 'the'), 17332), (('he', 'was'), 17297), (('with', 'a'), 16695), (('at', 'the'), 16578), (('of', 'his'), 16001), (('had', 'been'), 15164), (('for', 'the'), 14812), (('of', 'a'), 14609), (('i', 'am'), 14331), (('in', 'a'), 14233), (('she', 'had'), 13402), (('with', 'the'), 12574), (('i', 'have'), 12386), (('that', 'he'), 11997), (('by', 'the'), 11812), (('of', 'her'), 11710), (('was', 'a'), 11538), (('she', 'was'), 11512), (('from', 'the'), 11157), (('in', 'his'), 10839), (('to', 'her'), 10649), (('did', 'not'), 9993), (('and', 'i'), 9469), (('there', 'was'), 9309), (('have', 'been'), 9020), (('that', 'the'), 8987), (('as', 'he'), 8964), (('was', 'not'), 8576), (('you', 'are'), 8331), (('for', 'a'), 8297), (('a', 'little'), 8139), (('in', 'her'), 8080), (('that', 'she'), 7683), (('he', 'said'), 7598), (('all', 'the'), 7551), (('to', 'his'), 7508), (('out', 'of'), 7448), (('that', 'i'), 7411), (('and', 'he'), 7285), (('and', 'then'), 7264), (('would', 'have'), 7139), (('could', 'not'), 7061)]"
     ]
    }
   ],
   "source": [
    "print('50 most common bi-grams')\n",
    "\n",
    "print(fdist1.most_common(50), end='')"
   ]
  },
  {
   "attachments": {},
   "cell_type": "markdown",
   "metadata": {},
   "source": [
    "#### Q3: Removing stop words from the text"
   ]
  },
  {
   "cell_type": "code",
   "execution_count": 10,
   "metadata": {},
   "outputs": [
    {
     "name": "stderr",
     "output_type": "stream",
     "text": [
      "[nltk_data] Downloading package stopwords to\n",
      "[nltk_data]     C:\\Users\\kaush\\AppData\\Roaming\\nltk_data...\n",
      "[nltk_data]   Package stopwords is already up-to-date!\n"
     ]
    }
   ],
   "source": [
    "#%pip install nltk\n",
    "from nltk.corpus import stopwords\n",
    "nltk.download('stopwords')   \n",
    "stop_words = set(stopwords.words('english'))\n",
    "  \n",
    "# converts the words in word_tokens to lower case and then checks whether \n",
    "#they are present in stop_words or not\n",
    "filtered_sentence = [w for w in words_u if not w.lower() in stop_words]\n",
    "#with no lower case conversion\n",
    "filtered_sentence = []\n",
    "  \n",
    "for w in words_u:\n",
    "    if w not in stop_words:\n",
    "        filtered_sentence.append(w)\n",
    "  "
   ]
  },
  {
   "attachments": {},
   "cell_type": "markdown",
   "metadata": {},
   "source": [
    "#### Top 30 words after removing stop words"
   ]
  },
  {
   "cell_type": "code",
   "execution_count": 11,
   "metadata": {},
   "outputs": [
    {
     "name": "stdout",
     "output_type": "stream",
     "text": [
      "30 most common words after removing stop words\n",
      "[('said', 48289), ('would', 40249), ('one', 35190), ('could', 27337), ('mr', 25380), ('little', 21922), ('know', 19832), ('man', 19322), ('like', 19295), ('upon', 18452), ('time', 17706), ('never', 17628), ('well', 16756), ('see', 16508), ('old', 16488), ('must', 16005), ('much', 15884), ('mrs', 15321), ('think', 15269), ('come', 14833), ('good', 14576), ('say', 14453), ('made', 13825), ('dont', 12912), ('lady', 12720), ('might', 12560), ('thought', 12511), ('young', 12454), ('go', 12411), ('way', 12157)]"
     ]
    }
   ],
   "source": [
    "freq_dist = nltk.FreqDist(filtered_sentence)\n",
    "fdist2 = nltk.FreqDist(filtered_sentence)\n",
    "print('30 most common words after removing stop words')\n",
    "\n",
    "print(fdist2.most_common(30), end='')"
   ]
  },
  {
   "cell_type": "code",
   "execution_count": 12,
   "metadata": {},
   "outputs": [
    {
     "data": {
      "image/png": "[encoded data removed]",
      "text/plain": [
       "<Figure size 432x288 with 1 Axes>"
      ]
     },
     "metadata": {
      "needs_background": "light"
     },
     "output_type": "display_data"
    },
    {
     "data": {
      "text/plain": [
       "<AxesSubplot:xlabel='Samples', ylabel='Counts'>"
      ]
     },
     "execution_count": 12,
     "metadata": {},
     "output_type": "execute_result"
    }
   ],
   "source": [
    "fdist2.plot(30)"
   ]
  },
  {
   "attachments": {},
   "cell_type": "markdown",
   "metadata": {},
   "source": [
    "#### Top 40 words after removing stop words"
   ]
  },
  {
   "cell_type": "code",
   "execution_count": 13,
   "metadata": {},
   "outputs": [
    {
     "name": "stdout",
     "output_type": "stream",
     "text": [
      "40 most common words after removing stop words\n",
      "[('said', 48289), ('would', 40249), ('one', 35190), ('could', 27337), ('mr', 25380), ('little', 21922), ('know', 19832), ('man', 19322), ('like', 19295), ('upon', 18452), ('time', 17706), ('never', 17628), ('well', 16756), ('see', 16508), ('old', 16488), ('must', 16005), ('much', 15884), ('mrs', 15321), ('think', 15269), ('come', 14833), ('good', 14576), ('say', 14453), ('made', 13825), ('dont', 12912), ('lady', 12720), ('might', 12560), ('thought', 12511), ('young', 12454), ('go', 12411), ('way', 12157), ('life', 11947), ('eyes', 11510), ('miss', 11510), ('great', 10995), ('even', 10927), ('nothing', 10886), ('sir', 10861), ('two', 10805), ('first', 10594), ('face', 10418)]"
     ]
    }
   ],
   "source": [
    "print('40 most common words after removing stop words')\n",
    "\n",
    "print(fdist2.most_common(40), end='')"
   ]
  },
  {
   "attachments": {},
   "cell_type": "markdown",
   "metadata": {},
   "source": [
    "#### Top 50 words after removing stop words"
   ]
  },
  {
   "cell_type": "code",
   "execution_count": 14,
   "metadata": {},
   "outputs": [
    {
     "name": "stdout",
     "output_type": "stream",
     "text": [
      "50 most common words after removing stop words\n",
      "[('said', 48289), ('would', 40249), ('one', 35190), ('could', 27337), ('mr', 25380), ('little', 21922), ('know', 19832), ('man', 19322), ('like', 19295), ('upon', 18452), ('time', 17706), ('never', 17628), ('well', 16756), ('see', 16508), ('old', 16488), ('must', 16005), ('much', 15884), ('mrs', 15321), ('think', 15269), ('come', 14833), ('good', 14576), ('say', 14453), ('made', 13825), ('dont', 12912), ('lady', 12720), ('might', 12560), ('thought', 12511), ('young', 12454), ('go', 12411), ('way', 12157), ('life', 11947), ('eyes', 11510), ('miss', 11510), ('great', 10995), ('even', 10927), ('nothing', 10886), ('sir', 10861), ('two', 10805), ('first', 10594), ('face', 10418), ('may', 10204), ('came', 10169), ('shall', 10161), ('long', 10125), ('back', 10076), ('though', 10076), ('make', 10022), ('away', 9872), ('day', 9698), ('tell', 9656)]"
     ]
    }
   ],
   "source": [
    "print('50 most common words after removing stop words')\n",
    "\n",
    "print(fdist2.most_common(50), end='')"
   ]
  },
  {
   "attachments": {},
   "cell_type": "markdown",
   "metadata": {},
   "source": [
    "#### Top 30 bi-grams after removing stop words"
   ]
  },
  {
   "cell_type": "code",
   "execution_count": 15,
   "metadata": {},
   "outputs": [
    {
     "name": "stdout",
     "output_type": "stream",
     "text": [
      "30 common bi-grams after removing stop words\n",
      "[(('dont', 'know'), 2254), (('young', 'man'), 2137), (('cloth', 'extra'), 2065), (('old', 'man'), 1631), (('dont', 'think'), 1364), (('crown', 'svo'), 1362), (('said', 'mr'), 1343), (('vol', 'ii'), 1303), (('let', 'us'), 1253), (('great', 'deal'), 1106), (('said', 'mrs'), 1086), (('young', 'lady'), 1049), (('svo', 'cloth'), 1025), (('crown', 'cloth'), 940), (('first', 'time'), 923), (('good', 'deal'), 913), (('would', 'never'), 867), (('vol', 'iii'), 867), (('could', 'see'), 811), (('come', 'back'), 755), (('two', 'three'), 744), (('must', 'go'), 738), (('mr', 'gayre'), 726), (('could', 'help'), 720), (('one', 'another'), 717), (('one', 'day'), 716), (('would', 'like'), 712), (('oh', 'yes'), 701), (('one', 'thing'), 681), (('would', 'come'), 671)]"
     ]
    }
   ],
   "source": [
    "from nltk.util import ngrams\n",
    "bigrams1 = list(ngrams(filtered_sentence, 2))\n",
    "print('30 common bi-grams after removing stop words')\n",
    "fdist3 = nltk.FreqDist(bigrams1)\n",
    "print(fdist3.most_common(30), end='')"
   ]
  },
  {
   "attachments": {},
   "cell_type": "markdown",
   "metadata": {},
   "source": [
    "#### Top 40 bi-grams after removing stop words"
   ]
  },
  {
   "cell_type": "code",
   "execution_count": 16,
   "metadata": {},
   "outputs": [
    {
     "name": "stdout",
     "output_type": "stream",
     "text": [
      "40 most common bi-grams after removing stop words\n",
      "[(('dont', 'know'), 2254), (('young', 'man'), 2137), (('cloth', 'extra'), 2065), (('old', 'man'), 1631), (('dont', 'think'), 1364), (('crown', 'svo'), 1362), (('said', 'mr'), 1343), (('vol', 'ii'), 1303), (('let', 'us'), 1253), (('great', 'deal'), 1106), (('said', 'mrs'), 1086), (('young', 'lady'), 1049), (('svo', 'cloth'), 1025), (('crown', 'cloth'), 940), (('first', 'time'), 923), (('good', 'deal'), 913), (('would', 'never'), 867), (('vol', 'iii'), 867), (('could', 'see'), 811), (('come', 'back'), 755), (('two', 'three'), 744), (('must', 'go'), 738), (('mr', 'gayre'), 726), (('could', 'help'), 720), (('one', 'another'), 717), (('one', 'day'), 716), (('would', 'like'), 712), (('oh', 'yes'), 701), (('one', 'thing'), 681), (('would', 'come'), 671), (('young', 'men'), 663), (('shook', 'head'), 650), (('every', 'one'), 633), (('dont', 'want'), 632), (('yes', 'said'), 624), (('sir', 'harry'), 609), (('would', 'say'), 601), (('last', 'night'), 591), (('take', 'care'), 580), (('years', 'ago'), 579)]"
     ]
    }
   ],
   "source": [
    "print('40 most common bi-grams after removing stop words')\n",
    "\n",
    "print(fdist3.most_common(40), end='')"
   ]
  },
  {
   "attachments": {},
   "cell_type": "markdown",
   "metadata": {},
   "source": [
    "#### Top 50 bi-grams after removing stop words"
   ]
  },
  {
   "cell_type": "code",
   "execution_count": 17,
   "metadata": {},
   "outputs": [
    {
     "name": "stdout",
     "output_type": "stream",
     "text": [
      "50 most common bi-grams after removing stop words\n",
      "[(('dont', 'know'), 2254), (('young', 'man'), 2137), (('cloth', 'extra'), 2065), (('old', 'man'), 1631), (('dont', 'think'), 1364), (('crown', 'svo'), 1362), (('said', 'mr'), 1343), (('vol', 'ii'), 1303), (('let', 'us'), 1253), (('great', 'deal'), 1106), (('said', 'mrs'), 1086), (('young', 'lady'), 1049), (('svo', 'cloth'), 1025), (('crown', 'cloth'), 940), (('first', 'time'), 923), (('good', 'deal'), 913), (('would', 'never'), 867), (('vol', 'iii'), 867), (('could', 'see'), 811), (('come', 'back'), 755), (('two', 'three'), 744), (('must', 'go'), 738), (('mr', 'gayre'), 726), (('could', 'help'), 720), (('one', 'another'), 717), (('one', 'day'), 716), (('would', 'like'), 712), (('oh', 'yes'), 701), (('one', 'thing'), 681), (('would', 'come'), 671), (('young', 'men'), 663), (('shook', 'head'), 650), (('every', 'one'), 633), (('dont', 'want'), 632), (('yes', 'said'), 624), (('sir', 'harry'), 609), (('would', 'say'), 601), (('last', 'night'), 591), (('take', 'care'), 580), (('years', 'ago'), 579), (('sir', 'francis'), 565), (('well', 'said'), 562), (('would', 'make'), 562), (('thought', 'would'), 559), (('im', 'sure'), 553), (('long', 'time'), 552), (('never', 'mind'), 542), (('go', 'away'), 531), (('post', 'svo'), 528), (('one', 'would'), 527)]"
     ]
    }
   ],
   "source": [
    "print('50 most common bi-grams after removing stop words')\n",
    "\n",
    "print(fdist3.most_common(50), end='')"
   ]
  },
  {
   "cell_type": "code",
   "execution_count": null,
   "metadata": {},
   "outputs": [],
   "source": []
  }
 ],
 "metadata": {
  "kernelspec": {
   "display_name": "base",
   "language": "python",
   "name": "python3"
  },
  "language_info": {
   "codemirror_mode": {
    "name": "ipython",
    "version": 3
   },
   "file_extension": ".py",
   "mimetype": "text/x-python",
   "name": "python",
   "nbconvert_exporter": "python",
   "pygments_lexer": "ipython3",
   "version": "3.9.12"
  },
  "orig_nbformat": 4,
  "vscode": {
   "interpreter": {
    "hash": "eeb6c1dec8721e494a70bed8468138357575cd2d7f6080382ef40a703f8a81cc"
   }
  }
 },
 "nbformat": 4,
 "nbformat_minor": 2
}
